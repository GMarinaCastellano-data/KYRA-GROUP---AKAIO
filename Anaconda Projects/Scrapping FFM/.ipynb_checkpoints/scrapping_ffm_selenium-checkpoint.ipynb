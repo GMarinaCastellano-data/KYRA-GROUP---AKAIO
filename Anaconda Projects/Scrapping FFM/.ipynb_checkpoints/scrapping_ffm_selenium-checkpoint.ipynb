{
 "cells": [
  {
   "cell_type": "markdown",
   "id": "b9f059d4-008d-409c-8eae-3c27f2a24f1f",
   "metadata": {},
   "source": [
    "# Importaciones"
   ]
  },
  {
   "cell_type": "code",
   "execution_count": 2,
   "id": "96918d4e-c48d-4138-9985-aaa4ef981f5a",
   "metadata": {},
   "outputs": [],
   "source": [
    "from selenium import webdriver\n",
    "import pandas as pd\n",
    "from selenium.webdriver.support.select import Select\n",
    "from selenium.webdriver.common.alert import Alert\n",
    "from selenium.webdriver.common.by import By\n",
    "from selenium.webdriver.common.action_chains import ActionChains\n",
    "import time"
   ]
  },
  {
   "cell_type": "markdown",
   "id": "24f5944a-1a20-4564-a094-5bd8de107a89",
   "metadata": {},
   "source": [
    "# Crear el Dataframe y configurar la navegación"
   ]
  },
  {
   "cell_type": "code",
   "execution_count": 5,
   "id": "733f8106-f481-46c9-95b2-02634185e0fc",
   "metadata": {},
   "outputs": [],
   "source": [
    "df = pd.DataFrame(columns=[\"categoria\",\"grupo\",\"equipo\",\"nombre\",\"edad\"])\n",
    "driver = webdriver.Chrome()\n",
    "driver.get('https://www.rffm.es/competicion/clasificaciones')"
   ]
  },
  {
   "cell_type": "markdown",
   "id": "6b312cfd-fcee-4d02-a6de-99d4227c4bf0",
   "metadata": {},
   "source": [
    "## Vaya! Tengo que aceptar las cookies para poder trabajar aquí"
   ]
  },
  {
   "cell_type": "code",
   "execution_count": 8,
   "id": "5aa7b3a5-af49-4c17-86a9-ce1983b279fa",
   "metadata": {},
   "outputs": [],
   "source": [
    "try:\n",
    "    boton_aceptar_cookies = driver.find_element(By.XPATH, '//button[@class=\" css-1t142sv\"]')\n",
    "    boton_aceptar_cookies.click()\n",
    "except:\n",
    "    pass"
   ]
  },
  {
   "cell_type": "markdown",
   "id": "6704c6f1-7b12-4b9a-a431-0c489b8c15f2",
   "metadata": {},
   "source": [
    "# Rellenar el formulario para acceder a cada clasificación"
   ]
  },
  {
   "cell_type": "code",
   "execution_count": 36,
   "id": "2662600a-d525-41d5-aa6d-bfcd586edf3a",
   "metadata": {},
   "outputs": [],
   "source": [
    "def abrir_dropdown_competiciones():\n",
    "    try:\n",
    "        dropdown_competicion = driver.find_element(By.ID,\"competicion-select\")\n",
    "        dropdown_competicion.click()\n",
    "        time.sleep(0.1)\n",
    "    except:\n",
    "        pass"
   ]
  },
  {
   "cell_type": "code",
   "execution_count": 40,
   "id": "a75febb8-7e06-4d41-973a-c0013669622a",
   "metadata": {},
   "outputs": [],
   "source": [
    "def abrir_dropdown_grupo():\n",
    "    try:\n",
    "        dropdown_grupo = driver.find_element(By.ID,\"grupo-select\")\n",
    "        dropdown_grupo.click()\n",
    "        time.sleep(0.3)\n",
    "    except:\n",
    "        pass"
   ]
  },
  {
   "cell_type": "markdown",
   "id": "1a3c8b79-f56c-41ef-9ebe-3a83701ccdfa",
   "metadata": {},
   "source": [
    "## Serio problema. Según abre el desplegable, la primera opción cambia la clase a \"focusVisible\" entonces nos fastidia la lista. Para evitar esto la primera selección es distinta a las siguientes, "
   ]
  },
  {
   "cell_type": "code",
   "execution_count": 43,
   "id": "6857af5a-df17-4f65-9a87-60192a8eb980",
   "metadata": {},
   "outputs": [],
   "source": [
    "def seleccionar_primer_grupo():\n",
    "    abrir_dropdown_grupo()\n",
    "    primer_grupo = driver.find_elements(By.XPATH,'//li[@class=\"MuiButtonBase-root MuiListItem-root MuiMenuItem-root MuiMenuItem-gutters MuiListItem-gutters MuiListItem-button Mui-focusVisible Mui-focusVisible\"]')\n",
    "    if len(primer_grupo) != 0:\n",
    "        primer_grupo[0].click()\n",
    "    else:\n",
    "        seleccionar_grupo_unico()\n",
    "    time.sleep(0.3)"
   ]
  },
  {
   "cell_type": "code",
   "execution_count": 45,
   "id": "99623ca2-037b-4778-93f8-eff5fa150e1e",
   "metadata": {},
   "outputs": [],
   "source": [
    "def seleccionar_grupo_unico():\n",
    "    primer_grupo = driver.find_elements(By.XPATH,'//li[@class=\"MuiButtonBase-root MuiListItem-root MuiMenuItem-root MuiMenuItem-gutters MuiListItem-gutters MuiListItem-button\"]')\n",
    "    if len(primer_grupo) !=0:\n",
    "        primer_grupo[0].click()\n",
    "    else:\n",
    "        seleccionar_sig_grupos()\n",
    "    time.sleep(0.3)"
   ]
  },
  {
   "cell_type": "code",
   "execution_count": 55,
   "id": "fc182668-0b9c-4c48-9e6c-70f2c6ae2382",
   "metadata": {},
   "outputs": [],
   "source": [
    "def seleccionar_sig_grupos():\n",
    "    abrir_dropdown_grupo()\n",
    "    grupos = driver.find_elements(By.XPATH,'//li[@class=\"MuiButtonBase-root MuiListItem-root MuiMenuItem-root MuiMenuItem-gutters MuiListItem-gutters MuiListItem-button\"]')  \n",
    "    if len(grupos) != 0:\n",
    "        for i in range(len(grupos)):\n",
    "            grupos = driver.find_elements(By.XPATH,'//li[@class=\"MuiButtonBase-root MuiListItem-root MuiMenuItem-root MuiMenuItem-gutters MuiListItem-gutters MuiListItem-button\"]')\n",
    "            try:\n",
    "                grupos[i].click()\n",
    "            except:\n",
    "                pass\n",
    "            time.sleep(0.3)\n",
    "            if i != len(grupos)-1:\n",
    "                abrir_dropdown_grupo()\n",
    "    else:\n",
    "        pulsarFuera()"
   ]
  },
  {
   "cell_type": "code",
   "execution_count": 57,
   "id": "f60131d7-972d-4866-86fe-d9439f356a74",
   "metadata": {},
   "outputs": [],
   "source": [
    "def pulsarFuera():\n",
    "    action = ActionChains(driver)\n",
    "    action.move_by_offset(0, 0).click().perform()  "
   ]
  },
  {
   "cell_type": "code",
   "execution_count": 59,
   "id": "00810b2e-6ff8-4a76-a97f-2155b5342c09",
   "metadata": {},
   "outputs": [],
   "source": [
    "driver.refresh()\n",
    "abrir_dropdown_competiciones()\n",
    "time.sleep(0.3)\n",
    "competiciones = driver.find_elements(By.XPATH,'//li[@class=\"MuiButtonBase-root MuiListItem-root MuiMenuItem-root MuiMenuItem-gutters MuiListItem-gutters MuiListItem-button\"]')\n",
    "primera_compe = driver.find_elements(By.XPATH,'//li[@class=\"MuiButtonBase-root MuiListItem-root MuiMenuItem-root MuiMenuItem-gutters MuiListItem-gutters MuiListItem-button Mui-focusVisible Mui-focusVisible\"]')\n",
    "primera_compe[0].click()\n",
    "seleccionar_primer_grupo()\n",
    "seleccionar_sig_grupos()\n",
    "for i in range(len(competiciones)):\n",
    "    abrir_dropdown_competiciones()\n",
    "    competiciones = driver.find_elements(By.XPATH,'//li[@class=\"MuiButtonBase-root MuiListItem-root MuiMenuItem-root MuiMenuItem-gutters MuiListItem-gutters MuiListItem-button\"]')\n",
    "    competiciones[i].click()\n",
    "    seleccionar_primer_grupo()\n",
    "    seleccionar_sig_grupos()\n",
    "    time.sleep(0.3)\n",
    "    \n",
    "    "
   ]
  },
  {
   "cell_type": "code",
   "execution_count": null,
   "id": "391eeeb6-8a3f-4529-b468-ba1c4fd95ff9",
   "metadata": {},
   "outputs": [],
   "source": []
  },
  {
   "cell_type": "code",
   "execution_count": null,
   "id": "43f7692b-40bb-4fa3-85e0-991376740ce5",
   "metadata": {},
   "outputs": [],
   "source": []
  }
 ],
 "metadata": {
  "kernelspec": {
   "display_name": "Python 3 (ipykernel)",
   "language": "python",
   "name": "python3"
  },
  "language_info": {
   "codemirror_mode": {
    "name": "ipython",
    "version": 3
   },
   "file_extension": ".py",
   "mimetype": "text/x-python",
   "name": "python",
   "nbconvert_exporter": "python",
   "pygments_lexer": "ipython3",
   "version": "3.12.4"
  }
 },
 "nbformat": 4,
 "nbformat_minor": 5
}
