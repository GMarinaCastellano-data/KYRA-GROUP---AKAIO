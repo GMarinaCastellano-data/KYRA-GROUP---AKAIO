{
 "cells": [
  {
   "cell_type": "code",
   "execution_count": 6,
   "id": "efad24c0-cf23-4570-9c15-8ce48819cb17",
   "metadata": {},
   "outputs": [
    {
     "name": "stdout",
     "output_type": "stream",
     "text": [
      "Hola Gabi\n"
     ]
    }
   ],
   "source": [
    "print(\"Hola Gabi\")"
   ]
  },
  {
   "cell_type": "code",
   "execution_count": null,
   "id": "1ee636d0-20b1-4411-a626-adab903d3b16",
   "metadata": {},
   "outputs": [],
   "source": []
  },
  {
   "cell_type": "code",
   "execution_count": null,
   "id": "69b4136a-f119-4795-8124-2648bc64216c",
   "metadata": {},
   "outputs": [],
   "source": []
  },
  {
   "cell_type": "code",
   "execution_count": null,
   "id": "8d8cbdbe-a42a-47e1-8632-e8bd34c2c08d",
   "metadata": {},
   "outputs": [],
   "source": []
  }
 ],
 "metadata": {
  "kernelspec": {
   "display_name": "Python 3 (ipykernel)",
   "language": "python",
   "name": "python3"
  },
  "language_info": {
   "codemirror_mode": {
    "name": "ipython",
    "version": 3
   },
   "file_extension": ".py",
   "mimetype": "text/x-python",
   "name": "python",
   "nbconvert_exporter": "python",
   "pygments_lexer": "ipython3",
   "version": "3.12.4"
  }
 },
 "nbformat": 4,
 "nbformat_minor": 5
}
